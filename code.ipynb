{
  "nbformat": 4,
  "nbformat_minor": 0,
  "metadata": {
    "colab": {
      "name": "Projet (2).ipynb",
      "provenance": [],
      "collapsed_sections": []
    },
    "kernelspec": {
      "display_name": "Python 3",
      "language": "python",
      "name": "python3"
    },
    "language_info": {
      "codemirror_mode": {
        "name": "ipython",
        "version": 3
      },
      "file_extension": ".py",
      "mimetype": "text/x-python",
      "name": "python",
      "nbconvert_exporter": "python",
      "pygments_lexer": "ipython3",
      "version": "3.7.5"
    },
    "accelerator": "GPU"
  },
  "cells": [
    {
      "cell_type": "markdown",
      "metadata": {
        "id": "5kFN12vckSUl"
      },
      "source": [
        "# PROJET MALAP\n",
        "\n",
        "***A Continuation Method for Semi-Supervised SVMs***\n",
        "\n",
        "*AKROUCH Marwan* et *NEDERVEEN Cyril*"
      ]
    },
    {
      "cell_type": "code",
      "metadata": {
        "colab": {
          "base_uri": "https://localhost:8080/"
        },
        "id": "84z4O9JDRyi6",
        "outputId": "dd5236fd-9fc9-48b9-ad11-17073c16aff2"
      },
      "source": [
        "try:\n",
        "  from google.colab import drive\n",
        "  drive.mount('/content/gdrive', force_remount=True)\n",
        "\n",
        "  FOLDERNAME = 'MALAP_TP_1'\n",
        "  %cd /content/gdrive/My\\ Drive/$FOLDERNAME\n",
        "except ImportError:\n",
        "  pass"
      ],
      "execution_count": null,
      "outputs": [
        {
          "output_type": "stream",
          "text": [
            "Mounted at /content/gdrive\n",
            "/content/gdrive/My Drive/MALAP_TP_1\n"
          ],
          "name": "stdout"
        }
      ]
    },
    {
      "cell_type": "code",
      "metadata": {
        "id": "E0Fo1hTvkSUv"
      },
      "source": [
        "import jax\n",
        "import jax.numpy as jnp\n",
        "import numpy as np\n",
        "import gzip\n",
        "import pickle\n",
        "import matplotlib.pyplot as plt\n",
        "import random\n",
        "from scipy.special import erf\n",
        "from pylab import *"
      ],
      "execution_count": null,
      "outputs": []
    },
    {
      "cell_type": "markdown",
      "metadata": {
        "id": "jFI1AcOPkSUw"
      },
      "source": [
        "For this project, we will use the [MNIST dataset (~15Mo)](https://educnet.enpc.fr/mod/resource/view.php?id=44975). It consists of 28x28 images (loaded as a 784 vector) and the associated label for training, validation and test sets. \n",
        "\n",
        "The following code loads all samples from the MNIST archive into several arrays, then displays the first sample from the training set as an image. We will limit ourselves to the first 1000 samples of train and 1000 samples of validation."
      ]
    },
    {
      "cell_type": "code",
      "metadata": {
        "colab": {
          "base_uri": "https://localhost:8080/",
          "height": 283
        },
        "id": "YSJ_joQHkSUx",
        "outputId": "19b56ef7-08b6-445e-dae2-aafa80fbb666"
      },
      "source": [
        "# Load the dataset\n",
        "f = gzip.open('mnist.pkl.gz', 'rb')\n",
        "train_set, val_set, test_set = pickle.load(f, encoding='latin1') # python 3\n",
        "# train_set, val_set, test_set = cPickle.load(f) # python 2\n",
        "f.close()\n",
        "N = 1000\n",
        "train_data=train_set[0][0:N, :]\n",
        "train_labels=train_set[1][0:N]\n",
        "val_data=val_set[0][0:N, :]\n",
        "val_labels=val_set[1][0:N]\n",
        "N_train=train_data.shape[0]\n",
        "N_val=val_data.shape[0]\n",
        "# check data makes sense\n",
        "plt.imshow(train_data[0,:].reshape(28,28))\n",
        "print(train_labels[0])"
      ],
      "execution_count": null,
      "outputs": [
        {
          "output_type": "stream",
          "text": [
            "5\n"
          ],
          "name": "stdout"
        },
        {
          "output_type": "display_data",
          "data": {
            "image/png": "[encoded data removed]",
            "text/plain": [
              "<Figure size 432x288 with 1 Axes>"
            ]
          },
          "metadata": {
            "tags": [],
            "needs_background": "light"
          }
        }
      ]
    },
    {
      "cell_type": "markdown",
      "metadata": {
        "id": "vRxphnuDkSUz"
      },
      "source": [
        "Here, we define the 0-1 loss that measures the error rate of a classifier."
      ]
    },
    {
      "cell_type": "code",
      "metadata": {
        "id": "JReM8prtkSUz"
      },
      "source": [
        "def error_rate(y_hat, y):\n",
        "    return (1.-(y_hat==y)).mean()"
      ],
      "execution_count": null,
      "outputs": []
    },
    {
      "cell_type": "markdown",
      "metadata": {
        "id": "Gt9fGWnJl0wE"
      },
      "source": [
        "***Convolved loss*** \\\\\n",
        "\n",
        "$L_{\\gamma}(\\textbf{w}) = \\frac{1}{2}\\textbf{w}^\\top\\textbf{w} + \\frac{1}{2}\\gamma d +  C \\sum_{i=1}^n \\frac{\\gamma \\| \\textbf{x}_i\\|}{\\sqrt{2}}\\left[ \\frac{\\text{exp}(-e_i^2)}{\\sqrt{\\pi}}-e_i \\text{erfc}(e_i) \\right] + C^* \\sum_{i=n+1}^{n+m} \\frac{1}{\\sqrt{a_i}}\\text{exp}\\left( \\frac{-s(\\textbf{w}^\\top \\textbf{x}_i + b)^2}{a_i} \\right)$\n",
        "\n",
        "such that $a_i = 1 + 2\\gamma s \\|\\textbf{x}_i\\|^2$  ,  $e_i = \\frac{y_i(\\textbf{w}^\\top \\textbf{x}_i + b) - 1}{\\sqrt{2\\gamma}\\| \\textbf{x}_i \\|}$   and  erfc$(x) = \\frac{2}{\\sqrt{\\pi}}\\int_x^\\infty e^{-t^2}dt $\n",
        "\n",
        "the gradient at w is given by: \\\\\n",
        "$\\nabla L_{\\gamma}(\\textbf{w}) = \\textbf{w}^\\top +  \\frac{C}{2} \\sum_{i=1}^n \\text{erfc}(e_i)y_i \\textbf{x}_i^\\top - C^* \\sum_{i=n+1}^{n+m} \\frac{2s(\\textbf{w}^\\top \\textbf{x}_i + b)}{a_i^{3/2}}\\text{exp}\\left( \\frac{-s(\\textbf{w}^\\top \\textbf{x}_i + b)^2}{a_i} \\right)\\textbf{x}_i^\\top$"
      ]
    },
    {
      "cell_type": "code",
      "metadata": {
        "id": "FQFcZgPBHZ5e"
      },
      "source": [
        "class convolvedLoss:\n",
        "    def __init__(self, gamma, C = 1, C_etoile = 1, s=3):\n",
        "        \"\"\" \n",
        "        paramaters : \n",
        "        gamma : parameter of the gaussian in the convolution (stdv)\n",
        "        C : box parameter for labeled data (large C => smaller margin)\n",
        "        C_etoile : box parameter for unlabeled data\n",
        "        s : parameter of the loss l: t -> exp(-st^2) \n",
        "        \"\"\"\n",
        "        self.gamma = gamma\n",
        "        self.C = C\n",
        "        self.C_etoile = C_etoile\n",
        "        self.s = s\n",
        "\n",
        "    def __call__(self, X_lab, X_unlab, y_lab, w, b):\n",
        "        \"\"\"\n",
        "        Parameters\n",
        "        ----------\n",
        "        X_lab : labeled data\n",
        "        X_unlab : unlabeled data\n",
        "        y_lab : labels of labeled data\n",
        "        w : weights\n",
        "        b : bias\n",
        "        Returns\n",
        "        -------\n",
        "        value of L_gamma at w\n",
        "        \"\"\"\n",
        "        d = len(w)\n",
        "        a_lab = 1 + 2*self.gamma*self.s*jnp.linalg.norm(X_lab, ord=2, axis=1)**2\n",
        "        a_unlab = 1 + 2*self.gamma*self.s*jnp.linalg.norm(X_unlab, ord=2, axis=1)**2\n",
        "        e = (y_lab*(jnp.matmul(X_lab,w.T)+b)-1)/(jnp.sqrt(2*self.gamma)*jnp.linalg.norm(X_lab, ord=2, axis=1))\n",
        "        \n",
        "        term1 = 1/2 * jnp.matmul(w,w.T) + 1/2*self.gamma*d\n",
        "        term2 = self.C*self.gamma/jnp.sqrt(2)*(jnp.linalg.norm(X_lab, ord=2, axis=1)*(np.exp(-e**2/jnp.sqrt(jnp.pi)-e*(1-erf(e))))).sum()\n",
        "        term3 = self.C_etoile*(1/jnp.sqrt(a_unlab)*jnp.exp(-self.s*(jnp.matmul(X_unlab,w.T)+b)**2/a_unlab)).sum()\n",
        "\n",
        "        return term1 + term2 + term3\n",
        "\n",
        "    def grad_w(self, X_lab, X_unlab, y_lab, w, b):\n",
        "        \"\"\"\n",
        "        gradient of L_gamma w.r.t weights\n",
        "        Parameters\n",
        "        ----------\n",
        "        X_lab : labeled data\n",
        "        X_unlab : unlabeled data\n",
        "        y_lab : labels of labeled data\n",
        "        w : weights\n",
        "        b : bias\n",
        "        Returns\n",
        "        -------\n",
        "        value of grad of L_gamma at w\n",
        "        \"\"\"\n",
        "        e = (y_lab*(jnp.matmul(X_lab,w.T)+b)-1)/(jnp.sqrt(2*self.gamma)*jnp.linalg.norm(X_lab, ord=2, axis=1))\n",
        "        a_unlab = 1 + 2*self.gamma*self.s*jnp.linalg.norm(X_unlab, ord=2, axis=1)**2\n",
        "        return w - self.C/2 * ((1-erf(e))*y_lab*X_lab.T).sum(axis=1) - self.C_etoile * (2*self.s*(jnp.matmul(X_unlab,w.T)+b)/jnp.sqrt(a_unlab**3)*jnp.exp(-self.s*(jnp.matmul(X_unlab,w.T)+b)**2/a_unlab)*X_unlab.T).sum(axis=1)\n",
        "\n",
        "    def w_optimize(self, w0, b, X_lab, X_unlab, y_lab, lr=0.1, eps = 1e-2, max_iter = 5):\n",
        "        \"\"\"\n",
        "        gradient descent steps\n",
        "        Parameters\n",
        "        ----------\n",
        "        w0 : weights\n",
        "        b : bias\n",
        "        X_lab : labeled data\n",
        "        X_unlab : unlabeled data\n",
        "        y_lab : labels of labeled data\n",
        "        lr : learning rate\n",
        "        eps : stop when gradient is close to 0\n",
        "        max_iter : max number of descent steps\n",
        "        Returns\n",
        "        -------\n",
        "        value of grad of L_gamma at w\n",
        "        \"\"\"\n",
        "        w = w0\n",
        "        direction = self.grad_w(X_lab,X_unlab,y_lab,w,b)\n",
        "        counter = 0\n",
        "        while(jnp.linalg.norm(direction)>eps and counter < max_iter) :\n",
        "            w = w - lr*direction\n",
        "            direction = self.grad_w(X_lab,X_unlab,y_lab,w,b)\n",
        "            counter +=1\n",
        "        return w"
      ],
      "execution_count": null,
      "outputs": []
    },
    {
      "cell_type": "markdown",
      "metadata": {
        "id": "WPDbIiMmoI86"
      },
      "source": [
        "***S3VM two classes classification***"
      ]
    },
    {
      "cell_type": "markdown",
      "metadata": {
        "id": "P1R0CkZTfKA9"
      },
      "source": [
        "bellow is a class for a two class classification S3VM. \\\n",
        "\n",
        "In order not to end up in the situation where the non-labeled data is only \"stored\" on one side, we assume:\n",
        "$\\frac{1}{m}\\sum_{i=n+1}^m \\textbf{w}^\\top \\textbf{x}_i + b  = \\frac{1}{n}\\sum_{i=1}^n y_i$.\n",
        "So, by centering the labeled data and fixing $\\frac{1}{n}\\sum_{i=1}^n y_i$, we solve two difficulties at once because on the one hand, it is no longer necessary to optimize under constraints and on the other hand there is only $ \\textbf{w}$ as variable. this is what the method _initialize_weights_bias does.\n",
        "\n",
        "the gamma_values method calculates $\\gamma_0$ and $\\gamma_{end}$\n",
        "\n",
        "$\n",
        "\\gamma_0 = \\frac{(C^*\\lambda_{max})^{2/3}}{(2s)^{1/3}} \\quad \\text{et} \\quad \\gamma_{end} = \\frac{1}{10}\\frac{1}{2s \\text{max}_i \\| x_i \\|^2}\n",
        "$\n",
        "\n",
        "where $\\lambda_{max}$ is the largest eigen value of the matrix $ M =\\sum_{i = n+1}^{n+m}\\frac{\\textbf{x}_i \\textbf{x}_i^\\top}{\\| \\textbf{x}_i \\|^3}$. the sequence is of size = 10 and decreaces exponentially :\n",
        "\n",
        "$\n",
        "\\gamma_i = \\left( \\frac{\\gamma_{end}}{\\gamma_0} \\right)^{\\frac{i}{10}} \\gamma_0, \\quad 0 \\leq i \\leq 10.\n",
        "$\n",
        "\n",
        "The other methods are described in the code."
      ]
    },
    {
      "cell_type": "code",
      "metadata": {
        "id": "cF8f30VBT4FG"
      },
      "source": [
        "class binary_S3VM:\n",
        "    def __init__(self, X_lab, X_unlab, y_lab, Kernel=None, C=100., C_etoile=100., s=3, grad_max_iter=5, lr=.1, num_gammas=10, red_dim=True):\n",
        "        \"\"\"\n",
        "        X_lab : labeled data\n",
        "        X_unlab : unlabeled data\n",
        "        y_lab : labels of labeled data\n",
        "        Kernel : kernel\n",
        "        C : box parameter for labeled data (large C => smaller margin)\n",
        "        C_etoile : box parameter for unlabeled data\n",
        "        s : parameter of the loss l: t -> exp(-st^2)\n",
        "        grad_max_iter : max number of descent steps\n",
        "        lr : learning rate\n",
        "        num_gammas : number of values gamma takes as it goes down from gamma_0 to gamma_end\n",
        "        red_dim : if True use only labeled data to estimate projection in k-PCA (reduce dimension further to n), if False use labeled and unlabeled data to perform k-PCA (reduce dimension to n+m)\n",
        "        \"\"\"\n",
        "        self.Kernel = Kernel\n",
        "        self.X_lab = X_lab\n",
        "        self.X_unlab = X_unlab\n",
        "        if Kernel != None:\n",
        "            self.nX_lab = transform(X_lab, X_lab, X_unlab, self.Kernel, red_dim)\n",
        "            self.nX_unlab = transform(X_unlab, X_lab, X_unlab, self.Kernel, red_dim) \n",
        "        else:\n",
        "            self.nX_lab = X_lab\n",
        "            self.nX_unlab = X_unlab\n",
        "        self.nX_lab = self.nX_lab \n",
        "        self.nX_unlab = self.nX_unlab - self.nX_unlab.mean(axis=0)\n",
        "        self.lab1 = min(y_lab)\n",
        "        self.lab2 = max(y_lab)\n",
        "        self.y_lab = 2*(y_lab-jnp.min(y_lab))/(jnp.max(y_lab)-jnp.min(y_lab))-1\n",
        "        self.C = C\n",
        "        self.C_etoile = C_etoile  \n",
        "        self.s = s\n",
        "        self.grad_max_iter = grad_max_iter\n",
        "        self.lr = lr\n",
        "        self.num_gammas = num_gammas\n",
        "        self.red_dim = red_dim\n",
        "        self.loss = []\n",
        "\n",
        "    def _initialize_weights_bias(self):\n",
        "        \"\"\"Initialisation de w et b\"\"\"\n",
        "        n_features = self.nX_lab.shape[1]\n",
        "        stdv = 1/jnp.sqrt(n_features)\n",
        "        self.w = uniform(-stdv, stdv, size=n_features)\n",
        "        self.b = self.y_lab.mean()\n",
        "  \n",
        "    def continuation_method_step(self, gamma, max_iter):\n",
        "        \"\"\"\n",
        "        perform gradient descent steps in order to minimize the convolved loss with parameter gamma w.r.t the weights \n",
        "        parameters\n",
        "        -------\n",
        "        gamma : parameter of convolved loss \n",
        "        max_iter: maximum number of gradient descent steps\n",
        "        \"\"\"\n",
        "        Loss = convolvedLoss(gamma, self.C, self.C_etoile, self.s)\n",
        "        self.loss.append(Loss(self.nX_lab, self.nX_unlab, self.y_lab, self.w, self.b))\n",
        "        self.w = Loss.w_optimize(self.w, self.b, self.nX_lab, self.nX_unlab, self.y_lab, lr=self.lr, max_iter=self.grad_max_iter)\n",
        "  \n",
        "    def fit(self, plot_loss = True):\n",
        "        \"\"\"\n",
        "        fit the model by obtaning the optimal weights, by minimizing over the convolved loss with parameter gamma\n",
        "        for gamma starting at gamma_0 big and going down step by step to gamma_end close to 0\n",
        "        Parameter\n",
        "        --------\n",
        "        plot_loss: if true plots the convolved losses at each iteration\n",
        "        \"\"\"\n",
        "        self._initialize_weights_bias()\n",
        "        gamma_0, gamma_end= self.gamma_values()\n",
        "        for i in range(self.num_gammas):\n",
        "           gamma = (gamma_end/gamma_0)**(i/10) * gamma_0\n",
        "           self.continuation_method_step(gamma, self.grad_max_iter)\n",
        "        if plot_loss:\n",
        "              plt.plot(jnp.log10(jnp.array(self.loss)))\n",
        "              plt.ylabel(\"log10(Loss)\")\n",
        "              #plt.axis([None, None, 0, 1e5])\n",
        "\n",
        "    def gamma_values(self):\n",
        "        \"\"\"\n",
        "        the interval to which belongs the parameter gamma to use in the convolved loss,\n",
        "        we start by gamma = gamma_0 and go down to gamma_end\n",
        "        Returns\n",
        "        --------\n",
        "        gamma_0 and gamma_end \n",
        "        \"\"\"\n",
        "        n_features = self.nX_unlab.shape[1]\n",
        "        M = np.zeros((n_features,n_features))\n",
        "        for i in range(self.nX_unlab.shape[0]):\n",
        "            x = self.nX_unlab[i]\n",
        "            M += jnp.matmul(x[:,None],x[None,:])/ (jnp.matmul(x,x))**(3/2)  \n",
        "        lambd_max = jnp.max(jnp.linalg.eigvalsh(M))\n",
        "        gamma_0 = (self.C_etoile*lambd_max)**(2/3)/((2*self.s)**(1/3))\n",
        "        #print(f\"gamma0 = {gamma_0}\")\n",
        "        gamma_end = 1/10*1/(2*self.s*(jnp.linalg.norm(self.nX_unlab, ord=2, axis=1)**2).max())\n",
        "        #print(f\"gamma_end = {gamma_end}\")\n",
        "        return gamma_0, gamma_end\n",
        "  \n",
        "    def predict(self, X, binary_return = False, score = False):\n",
        "        \"\"\"\n",
        "        Predicts the class for each sample in X using the sign of the decision function\n",
        "        Parameters\n",
        "        ----------\n",
        "        X : vector of samples to be labeled\n",
        "        binary_return : if True the prediction labels are returned in the form {-1,1}  (used for onevsall approach)\n",
        "                        if false the actual prediction labels are returned\n",
        "        score : if True returns the score array (a measure of how close each sample to be labeled is to the margin) \n",
        "        Returns\n",
        "        -------\n",
        "        preds : predicted labels corresponding to X\n",
        "        \"\"\"\n",
        "        if self.Kernel != None:\n",
        "            X_ = transform(X,self.X_lab,self.X_unlab,self.Kernel, self.red_dim)\n",
        "        else:\n",
        "            X_ = X \n",
        "        decis_func = self.decision_function(X_- X_.mean(axis=0))\n",
        "        preds = jnp.sign(decis_func)\n",
        "        scores = np.maximum(decis_func, 0)\n",
        "    \n",
        "        if binary_return:\n",
        "            return 1.*(preds>0) if not score else (1.*(preds>0), scores)\n",
        "        else: \n",
        "            res =  self.lab2*(preds>0) + self.lab1*(preds<0)\n",
        "            return res if not score else (res,scores)\n",
        " \n",
        "    def decision_function(self, X):\n",
        "        return jnp.matmul(X,self.w.T)+self.b"
      ],
      "execution_count": null,
      "outputs": []
    },
    {
      "cell_type": "markdown",
      "metadata": {
        "id": "Jql1J2yyb8mU"
      },
      "source": [
        "We test the performance using two classes from MNIST, you can choose any of the digits."
      ]
    },
    {
      "cell_type": "code",
      "metadata": {
        "colab": {
          "base_uri": "https://localhost:8080/"
        },
        "id": "IIt_rqJMcBAD",
        "outputId": "9625e553-a797-4365-e92f-a88701a73543"
      },
      "source": [
        "# labels to do binary classification on\n",
        "lab1 = 3\n",
        "lab2 = 0\n",
        "\n",
        "x_train_binary = train_data[jnp.logical_or(train_labels == lab1, train_labels == lab2)]\n",
        "y_train_binary = train_labels[jnp.logical_or(train_labels == lab1, train_labels == lab2)]\n",
        "x_val_binary = val_data[jnp.logical_or(val_labels == lab1, val_labels == lab2)]\n",
        "y_val_binary = val_labels[jnp.logical_or(val_labels == lab1, val_labels == lab2)]\n",
        "\n",
        "percent_labeled_data = .25\n",
        "\n",
        "n = len(x_train_binary)\n",
        "n_train_lab = int(percent_labeled_data*n)\n",
        "\n",
        "key = jax.random.PRNGKey(20)\n",
        "p = list(jax.random.permutation(key, n))\n",
        "X_lab_bin = x_train_binary[p[0:n_train_lab], :]\n",
        "y_lab_bin = y_train_binary[p[0:n_train_lab]]\n",
        "X_unlab_bin = x_train_binary[p[n_train_lab:], :]\n",
        "\n",
        "print(f\"amount of labeled data = {len(X_lab_bin)}\") \n",
        "print(f\"amount of unlabeled data = {len(X_unlab_bin)}\")"
      ],
      "execution_count": null,
      "outputs": [
        {
          "output_type": "stream",
          "text": [
            "amount of labeled data = 47\n",
            "amount of unlabeled data = 143\n"
          ],
          "name": "stdout"
        }
      ]
    },
    {
      "cell_type": "markdown",
      "metadata": {
        "id": "wopmVJEs6Rzr"
      },
      "source": [
        "*binary classification using linear kernel (no k-PCA)* \\\n",
        "The plot bellow represents the variation of the loss calculated after each time we decrease gamma, since this loss is big we plotted log10(Loss)"
      ]
    },
    {
      "cell_type": "code",
      "metadata": {
        "colab": {
          "base_uri": "https://localhost:8080/",
          "height": 335
        },
        "id": "0R4jzz7ILG0m",
        "outputId": "ce7129d2-a6a2-476b-b97a-d1bb36766e57"
      },
      "source": [
        "# binary classification without kernel-PCA\n",
        "s3vm_bin = binary_S3VM(X_lab_bin, X_unlab_bin, y_lab_bin)\n",
        "s3vm_bin.fit()\n",
        "pred = s3vm_bin.predict(x_val_binary)\n",
        "err = error_rate(pred, y_val_binary)\n",
        "print(f\"Accuracy binary (without kernel) on test set: {1-err:.2%}\")\n",
        "pred = s3vm_bin.predict(X_unlab_bin)\n",
        "y_unlab_bin = y_train_binary[p[n_train_lab:]]\n",
        "err = error_rate(pred, y_unlab_bin)\n",
        "print(f\"Accuracy binary (without kernel) on unlabeled training set: {1-err:.2%}\")"
      ],
      "execution_count": null,
      "outputs": [
        {
          "output_type": "stream",
          "text": [
            "gamma0 = 43.126014709472656\n",
            "gamma_end = 9.538465383229777e-05\n",
            "Accuracy binary (without kernel) on test set: 97.56%\n",
            "Accuracy binary (without kernel) on unlabeled training set: 98.60%\n"
          ],
          "name": "stdout"
        },
        {
          "output_type": "display_data",
          "data": {
            "image/png": "[encoded data removed]",
            "text/plain": [
              "<Figure size 432x288 with 1 Axes>"
            ]
          },
          "metadata": {
            "tags": [],
            "needs_background": "light"
          }
        }
      ]
    },
    {
      "cell_type": "markdown",
      "metadata": {
        "id": "zeFlLRSeLfmf"
      },
      "source": [
        "Now, we perform a cross validation to estimate the most suitable $C$ and $C^*$"
      ]
    },
    {
      "cell_type": "code",
      "metadata": {
        "id": "HgyLqY1CJGE8"
      },
      "source": [
        "key = jax.random.PRNGKey(4) # chosen by a fair dice roll\n",
        "def randomSplit(key, X, y, train_part=0.8, percent_lab=.25):\n",
        "    n = X.shape[0]\n",
        "    n_train = int(train_part*n); n_test = n - n_train\n",
        "    n_train_lab = int(n_train*percent_lab); n_train_unlab = n_train - n_train_lab\n",
        "    p = jax.random.permutation(key, n)\n",
        "    X_train_lab = X[p[0:n_train_lab], :]; y_train_lab = y[p[0:n_train_lab]]\n",
        "    X_train_unlab = X[p[n_train_lab:n_train], :]; y_train_unlab = y[p[n_train_lab:n_train]]\n",
        "    X_val = X[p[n_train:],:] ; y_val = y[p[n_train:]]\n",
        "    return X_train_lab, X_train_unlab, y_train_lab, y_train_unlab, X_val, y_val"
      ],
      "execution_count": null,
      "outputs": []
    },
    {
      "cell_type": "code",
      "metadata": {
        "colab": {
          "base_uri": "https://localhost:8080/",
          "height": 295
        },
        "id": "K47Hxx37P6iN",
        "outputId": "8ac04ffb-fe5a-4883-c3af-bbe21b3af227"
      },
      "source": [
        "plt.rcParams[\"figure.figsize\"] = (6,4)\n",
        "CC = [k for k in range(1,10,2)] + [10*k for k in range(1,21)]\n",
        "CC_etoile = CC\n",
        "#err_means_test = np.zeros((len(Cs),len(Cs)))\n",
        "n_cv_datasets = 4\n",
        "\n",
        "for i in range(len(CC)):\n",
        "  for j in range(len(CC)):\n",
        "    err_test = []\n",
        "    for k in range(n_cv_datasets):\n",
        "        key = jax.random.PRNGKey(k)\n",
        "        X_lab, X_unlab, y_lab, y_unlab, X_val, y_val = randomSplit(key, x_train_binary, y_train_binary, .75, .25)\n",
        "  \n",
        "        s3vm = binary_S3VM(X_lab, X_unlab, y_lab, C=CC[i], C_etoile=CC_etoile[j])\n",
        "        s3vm.fit(plot_loss = False)\n",
        "        y_hat = s3vm.predict(X_val)\n",
        "        err_test.append(error_rate(y_hat, y_val))\n",
        "      \n",
        "    # prendre la moyenne des erreurs\n",
        "    err_means_test[i,j] = jnp.array(err_test).mean()\n",
        "plt.contourf(CC,CC_etoile,err_means_test)\n",
        "plt.xlabel(\"C\")\n",
        "plt.ylabel(\"C_etoile\")\n",
        "plt.title(\"cv to find most suitable value for C and C_etoile\")\n",
        "plt.show()"
      ],
      "execution_count": null,
      "outputs": [
        {
          "output_type": "display_data",
          "data": {
            "image/png": "[encoded data removed]",
            "text/plain": [
              "<Figure size 432x288 with 1 Axes>"
            ]
          },
          "metadata": {
            "tags": [],
            "needs_background": "light"
          }
        }
      ]
    },
    {
      "cell_type": "markdown",
      "metadata": {
        "id": "lSqmvWCNadlV"
      },
      "source": [
        "Bellow we did CV this time by assuming $C=C^*$,\n",
        "Finally we chose $C=C^*=100$"
      ]
    },
    {
      "cell_type": "code",
      "metadata": {
        "colab": {
          "base_uri": "https://localhost:8080/",
          "height": 296
        },
        "id": "NptkPemlr_jp",
        "outputId": "9937c97f-9ab6-477c-db7f-e7402684134b"
      },
      "source": [
        "# cross validation to find sigma\n",
        "plt.rcParams[\"figure.figsize\"] = (13,4)\n",
        "err_means_test = []\n",
        "err_means_unlab = []\n",
        "C_Cetoile = [k for k in range(1,10,2)] + [10*k for k in range(1,21)]\n",
        "n_cv_datasets = 4\n",
        "\n",
        "for C in C_Cetoile:\n",
        "   err_test = []\n",
        "   err_unlab = []\n",
        "   for i in range(n_cv_datasets):\n",
        "      key = jax.random.PRNGKey(i)\n",
        "      X_lab, X_unlab, y_lab, y_unlab, X_val, y_val = randomSplit(key, x_train_binary, y_train_binary, .75, .25)\n",
        " \n",
        "      s3vm = binary_S3VM(X_lab, X_unlab, y_lab, C=C, C_etoile=C)\n",
        "      s3vm.fit(plot_loss = False)\n",
        "      y_hat = s3vm.predict(X_val)\n",
        "      err_test.append(error_rate(y_hat, y_val))\n",
        "      pred_unlab = s3vm.predict(X_unlab)\n",
        "      err_unlab.append(error_rate(pred_unlab, y_unlab))\n",
        "      \n",
        "   # prendre la moyenne des erreurs\n",
        "   err_means_test.append(jnp.array(err_test).mean())\n",
        "   err_means_unlab.append(jnp.array(err_unlab).mean())\n",
        "\n",
        "plt.subplot(1, 2, 1) \n",
        "plt.plot(C_Cetoile, err_means_test)\n",
        "plt.xlabel(\"C = C_etoile \")\n",
        "plt.ylabel(\"error\")\n",
        "plt.title(\"CV C/C_etoile\")\n",
        "\n",
        "plt.show()"
      ],
      "execution_count": null,
      "outputs": [
        {
          "output_type": "display_data",
          "data": {
            "image/png": "[encoded data removed]",
            "text/plain": [
              "<Figure size 936x288 with 1 Axes>"
            ]
          },
          "metadata": {
            "tags": [],
            "needs_background": "light"
          }
        }
      ]
    },
    {
      "cell_type": "markdown",
      "metadata": {
        "id": "2JXC019WxUnn"
      },
      "source": [
        "Here we change the percent of labeled data in the training dataset and calculate the error after training the model. We got the plot bellow, the error w.r.t the percent of labeled data, which has a decreasing tendancy. Theoretically, as we increase the amout of labels we get better accuracy, which is shown empirically bellow. However, when the number of labeled samples is really low, we should take into account the quality of the labeled samples (diversity and ability the draw conclusions from these samples)."
      ]
    },
    {
      "cell_type": "code",
      "metadata": {
        "colab": {
          "base_uri": "https://localhost:8080/",
          "height": 295
        },
        "id": "umcMX8ytofhc",
        "outputId": "aaeff79b-424c-48a5-dc4a-1ea0487d48d8"
      },
      "source": [
        "percents = np.array([0.01*k for k in range(2,11)] + [0.05*k for k in range(3,9)])\n",
        "err = []\n",
        "for percent_labeled_data in percents:\n",
        "    n = len(x_train_binary)\n",
        "    n_train_lab = int(percent_labeled_data*n)\n",
        "    \n",
        "    key = jax.random.PRNGKey(int(percent_labeled_data*100))\n",
        "    p = list(jax.random.permutation(key, n))\n",
        "    X_lab_bin = x_train_binary[p[0:n_train_lab], :]\n",
        "    y_lab_bin = y_train_binary[p[0:n_train_lab]]\n",
        "    X_unlab_bin = x_train_binary[p[n_train_lab:], :]\n",
        "\n",
        "    s3vm_bin = binary_S3VM(X_lab_bin, X_unlab_bin, y_lab_bin, lr=.1, grad_max_iter=5)\n",
        "    s3vm_bin.fit(plot_loss=False)\n",
        "    pred = s3vm_bin.predict(x_val_binary)\n",
        "    error = error_rate(pred, y_val_binary) \n",
        "    err.append(error)\n",
        "\n",
        "plt.plot(percents, err)\n",
        "plt.xlabel(\"percent of labeled data\")\n",
        "plt.ylabel(\"error\")\n",
        "plt.title(\"the error on test set according to the percent of labeled data\")\n",
        "plt.show()"
      ],
      "execution_count": null,
      "outputs": [
        {
          "output_type": "display_data",
          "data": {
            "image/png": "[encoded data removed]",
            "text/plain": [
              "<Figure size 432x288 with 1 Axes>"
            ]
          },
          "metadata": {
            "tags": []
          }
        }
      ]
    },
    {
      "cell_type": "markdown",
      "metadata": {
        "id": "dHT0cRs-Io6w"
      },
      "source": [
        "***Multiclass***"
      ]
    },
    {
      "cell_type": "markdown",
      "metadata": {
        "id": "tKWwzvnH9JmA"
      },
      "source": [
        "The approach we have adopted for a multiclass classification is One Vs All: We train $ 10 (10-1) / 2 = 45$  binary classifiers for each pair of labels, and to predict the class of an image we chose the label with the highest score. In the case of SVMs, the score is the distance to the hyperplane, i.e. the absolute value of the decision function. \\\n",
        "Note that we return the prediction on the unlabeled training set also."
      ]
    },
    {
      "cell_type": "code",
      "metadata": {
        "id": "fKseU7fVkSU5"
      },
      "source": [
        "class OnevsAll_S3VM():\n",
        "    def __init__(self, X_lab, X_unlab, y_lab, Kernel=None, C=100., C_etoile=100., s=3, grad_max_iter=5, num_gammas=10, red_dim=False):\n",
        "        \"\"\"\n",
        "        X_lab : labeled data\n",
        "        X_unlab : unlabeled data\n",
        "        y_lab : labels of labeled data\n",
        "        Kernel : kernel\n",
        "        C : box parameter for labeled data (large C => smaller margin)\n",
        "        C_etoile : box parameter for unlabeled data\n",
        "        s : parameter of the loss l: t -> exp(-st^2)\n",
        "        grad_max_iter : max number of descent steps\n",
        "        red_dim : if True use only labeled data to estimate projection in k-PCA (reduce dimension further to n), if False use labeled and unlabeled data to perform k-PCA (reduce dimension to n+m)\n",
        "        \"\"\"\n",
        "        self.Kernel = Kernel\n",
        "        self.X_lab = X_lab\n",
        "        self.X_unlab = X_unlab - X_unlab.mean(axis=0)\n",
        "        self.y_lab = y_lab\n",
        "        self.C = C\n",
        "        self.C_etoile = C_etoile     \n",
        "        self.s = s   \n",
        "        self.grad_max_iter = grad_max_iter\n",
        "        self.num_gammas = num_gammas\n",
        "        self.red_dim = red_dim\n",
        "\n",
        "    def __call__(self, x):\n",
        "        \"\"\"\n",
        "        returns the predicted labels for the dataset x and also the predictions for the unlabeled training data\n",
        "        \"\"\"\n",
        "        scores_test_data = []\n",
        "        scores_unlab_data =[]\n",
        "        for label in jnp.unique(self.y_lab):\n",
        "           score_test, score_unlab = self.binary_svm(label, x)\n",
        "           scores_test_data.append(score_test)\n",
        "           scores_unlab_data.append(score_unlab)\n",
        "\n",
        "        scores_test_data = jnp.array(scores_test_data).T\n",
        "        scores_unlab_data = jnp.array(scores_unlab_data).T\n",
        "\n",
        "        y_hat = jnp.argmax(scores_test_data, axis=1)\n",
        "        y_unlab = jnp.argmax(scores_unlab_data, axis=1)\n",
        "        return y_hat, y_unlab\n",
        "        \n",
        "    def binary_svm(self, label, x):\n",
        "       _y = 1.*(self.y_lab == label)       \n",
        "       bin_svm = binary_S3VM(self.X_lab, self.X_unlab, _y , self.Kernel, self.C, self.C_etoile, self.s, self.grad_max_iter, num_gammas = self.num_gammas, red_dim = self.red_dim)\n",
        "       bin_svm.fit(plot_loss = False)\n",
        "       return bin_svm.predict(x, binary_return=True, score=True)[1], bin_svm.predict(self.X_unlab, binary_return=True, score=True)[1]"
      ],
      "execution_count": null,
      "outputs": []
    },
    {
      "cell_type": "markdown",
      "metadata": {
        "id": "yzFl9LZA59PJ"
      },
      "source": [
        "*One vs All approach with linear kernel (no k-PCA)*"
      ]
    },
    {
      "cell_type": "markdown",
      "metadata": {
        "id": "MmbG7KoHcmgU"
      },
      "source": [
        "We got 54.10% accuracy on the test set and 62% accuracy on unlabeled training set, with 25% of data labeled. Which is pretty good."
      ]
    },
    {
      "cell_type": "code",
      "metadata": {
        "colab": {
          "base_uri": "https://localhost:8080/"
        },
        "id": "LK7Rrzevwiya",
        "outputId": "313820c8-baec-4e7c-8c36-cf1c9bd9e004"
      },
      "source": [
        "percent_labeled_data = .25\n",
        "\n",
        "n = len(train_data)\n",
        "n_train_lab = int(percent_labeled_data*n)\n",
        "\n",
        "key = jax.random.PRNGKey(int(percent_labeled_data*100))\n",
        "p = list(jax.random.permutation(key, n))\n",
        "X_lab = train_data[p[0:n_train_lab], :]\n",
        "y_lab = train_labels[p[0:n_train_lab]]\n",
        "X_unlab = train_data[p[n_train_lab:], :]\n",
        "\n",
        "print(f\"amount of labeled data = {len(X_lab)}\")\n",
        "print(f\"amount of unlabeled data = {len(X_unlab)}\")"
      ],
      "execution_count": null,
      "outputs": [
        {
          "output_type": "stream",
          "text": [
            "amount of labeled data = 250\n",
            "amount of unlabeled data = 750\n"
          ],
          "name": "stdout"
        }
      ]
    },
    {
      "cell_type": "code",
      "metadata": {
        "colab": {
          "base_uri": "https://localhost:8080/"
        },
        "id": "X1KF3Le85seD",
        "outputId": "659fd84e-c514-4c91-8ae4-75ac189abd5e"
      },
      "source": [
        "# One vs all linear approach (no kernel)\n",
        "s3vm = OnevsAll_S3VM(X_lab, X_unlab, y_lab, grad_max_iter=5, num_gammas=10)\n",
        "pred_test, pred_unlab = s3vm(val_data)\n",
        "err = error_rate(pred_test, val_labels)\n",
        "print(f\"Accuracy one vs all (10 classes) on test set: {1-err:.2%}\")\n",
        "err = error_rate(pred_unlab, train_labels[p[n_train_lab:]])\n",
        "print(f\"Accuracy one vs all (10 classes) on unlabeled train set: {1-err:.2%}\")"
      ],
      "execution_count": null,
      "outputs": [
        {
          "output_type": "stream",
          "text": [
            "Accuracy one vs all (10 classes) on test set: 54.10%\n",
            "Accuracy one vs all (10 classes) on unlabeled train set: 62.00%\n"
          ],
          "name": "stdout"
        }
      ]
    },
    {
      "cell_type": "markdown",
      "metadata": {
        "id": "awuVM_JedDTY"
      },
      "source": [
        "Like in the two classes case, we change the percent of labeled data in the training dataset and calculate the error after training the model. We got the plot bellow, the error w.r.t the percent of labeled data, which has a decreasing tendancy. "
      ]
    },
    {
      "cell_type": "code",
      "metadata": {
        "colab": {
          "base_uri": "https://localhost:8080/",
          "height": 295
        },
        "id": "aU6qt92szc3S",
        "outputId": "46e3200c-9f86-4fea-8c76-bda9ab892359"
      },
      "source": [
        "plt.rcParams[\"figure.figsize\"] = (13,4)\n",
        "percents = np.array([0.01*k for k in range(2,11)] + [0.05*k for k in range(3,9)])\n",
        "err_test = []\n",
        "err_unlab = []\n",
        "\n",
        "for percent_labeled_data in percents:\n",
        "    n = len(train_data)\n",
        "    n_train_lab = int(percent_labeled_data*n)\n",
        "    \n",
        "    key = jax.random.PRNGKey(int(percent_labeled_data*100))\n",
        "    p = list(jax.random.permutation(key, n))\n",
        "    X_lab = train_data[p[0:n_train_lab], :]\n",
        "    y_lab = train_labels[p[0:n_train_lab]]\n",
        "    X_unlab = train_data[p[n_train_lab:], :]\n",
        "\n",
        "    s3vm = OnevsAll_S3VM(X_lab, X_unlab, y_lab)\n",
        "    pred_test, pred_unlab = s3vm(val_data)\n",
        "    error = error_rate(pred_test, val_labels) \n",
        "    err_test.append(error)\n",
        "    error = error_rate(pred_unlab, train_labels[p[n_train_lab:]])\n",
        "    err_unlab.append(error)\n",
        "\n",
        "plt.subplot(1, 2, 1) \n",
        "plt.plot(percents, err_test)\n",
        "plt.xlabel(\"percent of labeled data\")\n",
        "plt.ylabel(\"error\")\n",
        "plt.title(\"the error on test set w.r.t the percent of labeled data\")\n",
        "\n",
        "plt.subplot(1, 2, 2) \n",
        "plt.plot(percents, err_unlab)\n",
        "plt.xlabel(\"percent of labeled data\")\n",
        "plt.ylabel(\"error\")\n",
        "plt.title(\"the error on unlabeled set w.r.t the percent of labeled data\")\n",
        "\n",
        "plt.show()"
      ],
      "execution_count": null,
      "outputs": [
        {
          "output_type": "display_data",
          "data": {
            "image/png": "[encoded data removed]",
            "text/plain": [
              "<Figure size 936x288 with 2 Axes>"
            ]
          },
          "metadata": {
            "tags": [],
            "needs_background": "light"
          }
        }
      ]
    },
    {
      "cell_type": "markdown",
      "metadata": {
        "id": "ie_qoXsDJGfz"
      },
      "source": [
        "***One vs One***"
      ]
    },
    {
      "cell_type": "markdown",
      "metadata": {
        "id": "XcmlxNiM-rKV"
      },
      "source": [
        "We tried implementing a one vs one approach for multiclass classification, but the accuracy was less impressive."
      ]
    },
    {
      "cell_type": "code",
      "metadata": {
        "id": "6cvfrgiNqlNk"
      },
      "source": [
        "from itertools import combinations\n",
        "class OnevsOne_S3VM():\n",
        "    def __init__(self, X_lab, X_unlab, y_lab, Kernel=None, C=100., C_etoile=100., s=3, grad_max_iter=5):\n",
        "        self.Kernel = Kernel\n",
        "        self.X_lab = X_lab\n",
        "        self.X_unlab = X_unlab - X_unlab.mean(axis=0)\n",
        "        self.y_lab = y_lab\n",
        "        self.C = C\n",
        "        self.C_etoile = C_etoile     \n",
        "        self.s = s   \n",
        "        self.grad_max_iter = grad_max_iter\n",
        "        \n",
        "    def __call__(self, x):\n",
        "        y_hat = -jnp.ones(x.shape[0])\n",
        "        preds = jnp.zeros((x.shape[0],10))\n",
        "        lab_pairs = combinations(jnp.unique(self.y_lab), 2)\n",
        "        for lab1, lab2 in lab_pairs:\n",
        "           pred_label = self.binary_svm(lab1, lab2, x)\n",
        "           preds = jax.ops.index_add(preds, jax.ops.index[jnp.where(pred_label == 1),lab1], 1)\n",
        "           preds = jax.ops.index_add(preds, jax.ops.index[jnp.where(pred_label == -1),lab2], 1)\n",
        "        return jnp.argmax(preds, axis=1)\n",
        "        \n",
        "    def binary_svm(self, lab1, lab2, x):\n",
        "       _y = 1.*(self.y_lab == lab1) + -1.*(self.y_lab == lab2)      \n",
        "       bin_svm = binary_S3VM(self.X_lab, self.X_unlab, _y, self.Kernel, self.C, self.C_etoile, self.s, self.grad_max_iter)\n",
        "       bin_svm.fit(plot_loss = False)\n",
        "       return bin_svm.predict(x, binary_return = True)"
      ],
      "execution_count": null,
      "outputs": []
    },
    {
      "cell_type": "code",
      "metadata": {
        "colab": {
          "base_uri": "https://localhost:8080/"
        },
        "id": "Yq8-wutwBBHD",
        "outputId": "569c19cc-f790-451d-ba67-8c94924edaf8"
      },
      "source": [
        "percent_labeled_data = .25\n",
        "\n",
        "n = len(train_data)\n",
        "n_train_lab = int(percent_labeled_data*n)\n",
        "\n",
        "key = jax.random.PRNGKey(int(percent_labeled_data*100))\n",
        "p = list(jax.random.permutation(key, n))\n",
        "X_lab = train_data[p[0:n_train_lab], :]\n",
        "y_lab = train_labels[p[0:n_train_lab]]\n",
        "X_unlab = train_data[p[n_train_lab:], :]\n",
        "\n",
        "print(f\"amount of labeled data = {len(X_lab)}\")\n",
        "print(f\"amount of unlabeled data = {len(X_unlab)}\")"
      ],
      "execution_count": null,
      "outputs": [
        {
          "output_type": "stream",
          "text": [
            "amount of labeled data = 250\n",
            "amount of unlabeled data = 750\n"
          ],
          "name": "stdout"
        }
      ]
    },
    {
      "cell_type": "code",
      "metadata": {
        "colab": {
          "base_uri": "https://localhost:8080/"
        },
        "id": "So2dgLkL_nI4",
        "outputId": "764045b5-f3e9-4d99-8f6f-d54baeec0239"
      },
      "source": [
        "s3vm = OnevsOne_S3VM(X_lab, X_unlab, y_lab)\n",
        "pred = s3vm(val_data)\n",
        "err = error_rate(pred, val_labels)\n",
        "print(f\"Accuracy one vs one (10 classes): {1-err:.2%}\")"
      ],
      "execution_count": null,
      "outputs": [
        {
          "output_type": "stream",
          "text": [
            "Accuracy one vs one (10 classes): 36.60%\n"
          ],
          "name": "stdout"
        }
      ]
    },
    {
      "cell_type": "markdown",
      "metadata": {
        "id": "O8tVwn4xIgEJ"
      },
      "source": [
        "***Kernel trick***"
      ]
    },
    {
      "cell_type": "markdown",
      "metadata": {
        "id": "TLAEimmldNDS"
      },
      "source": [
        "We implemented the kernel trick decribed in the section 2.3 of the paper"
      ]
    },
    {
      "cell_type": "code",
      "metadata": {
        "id": "esn3JxUHkSU0"
      },
      "source": [
        "'''\n",
        "takes arguements \n",
        "x1: m x d\n",
        "x2: n x d\n",
        "return the Gram matrix m x n\n",
        "'''\n",
        "def LinearKernel(x1, x2):\n",
        "    return jnp.matmul(x1, x2.T)\n",
        "\n",
        "class GaussKernel():\n",
        "    def __init__(self, sigma=1.0):\n",
        "        self.sigma = sigma\n",
        "\n",
        "    def __call__(self, x1, x2):\n",
        "        return jnp.exp(-1/(2*self.sigma**2)*( jnp.linalg.norm(x1, axis=-1, keepdims=True)**2 + jnp.linalg.norm(x2, axis=-1, keepdims=True).T**2 - 2*jnp.dot(x1, x2.T)))\n",
        "\n",
        "def transform(x, X_lab, X_unlab, Kernel, red_dim=True):  \n",
        "    \"\"\"\n",
        "    transforme x dans l'espace H (section 2.3 of the paper)\n",
        "    red_dim : if True use only labeled data to estimate projection in k-PCA (reduce dimension further to n), \n",
        "              if False use labeled and unlabeled data to perform k-PCA (reduce dimension to n+m)\n",
        "    \"\"\"\n",
        "    n,m = len(X_lab), len(X_unlab)\n",
        "    X_tot = jnp.concatenate((X_lab,X_unlab))\n",
        "    K = Kernel(X_tot,X_tot)\n",
        "    L, U = jnp.linalg.eigh(K)\n",
        "    q = n if red_dim else n+m\n",
        "    X_q = X_lab if red_dim else X_tot\n",
        "    A = jnp.matmul(U , jnp.diag(jnp.sqrt(1/L)))[:q]\n",
        "    return jnp.matmul(Kernel(x,X_q) , A)"
      ],
      "execution_count": null,
      "outputs": []
    },
    {
      "cell_type": "markdown",
      "metadata": {
        "id": "MTMJ2rWgXlei"
      },
      "source": [
        "*Twa classes classification with kernel Trick using RBF kernel*"
      ]
    },
    {
      "cell_type": "markdown",
      "metadata": {
        "id": "XwtYJD9WdgL1"
      },
      "source": [
        "For 25% labeled data, we obtained $\\approx 97 \\%$ accuracy on test set and $99 \\%$ accuracy on unlabeled training set. This model is useful for transductive learning."
      ]
    },
    {
      "cell_type": "code",
      "metadata": {
        "colab": {
          "base_uri": "https://localhost:8080/"
        },
        "id": "i24575o9rKut",
        "outputId": "c85869c5-9826-48cc-e7ca-a9e9bddd3374"
      },
      "source": [
        "# construct the data first\n",
        "\n",
        "lab1 = 3\n",
        "lab2 = 0\n",
        "\n",
        "x_train_binary = train_data[jnp.logical_or(train_labels == lab1, train_labels == lab2)]\n",
        "y_train_binary = train_labels[jnp.logical_or(train_labels == lab1, train_labels == lab2)]\n",
        "x_val_binary = val_data[jnp.logical_or(val_labels == lab1, val_labels == lab2)]\n",
        "y_val_binary = val_labels[jnp.logical_or(val_labels == lab1, val_labels == lab2)]\n",
        "\n",
        "percent_labeled_data = .25\n",
        "\n",
        "n = len(x_train_binary)\n",
        "n_train_lab = int(percent_labeled_data*n)\n",
        "\n",
        "key = jax.random.PRNGKey(5)\n",
        "p = list(jax.random.permutation(key, n))\n",
        "X_lab_bin = x_train_binary[p[0:n_train_lab], :]\n",
        "y_lab_bin = y_train_binary[p[0:n_train_lab]]\n",
        "X_unlab_bin = x_train_binary[p[n_train_lab:], :]\n",
        "\n",
        "print(f\"amount of labeled data = {len(X_lab_bin)}\") \n",
        "print(f\"amount of unlabeled data = {len(X_unlab_bin)}\")"
      ],
      "execution_count": null,
      "outputs": [
        {
          "output_type": "stream",
          "text": [
            "amount of labeled data = 47\n",
            "amount of unlabeled data = 143\n"
          ],
          "name": "stdout"
        }
      ]
    },
    {
      "cell_type": "markdown",
      "metadata": {
        "id": "EkFrfaMqWMOK"
      },
      "source": [
        "Bellow binary classification with kernel RBF, here we set red_dim to False, which means we use labeled and unlabeled data to perform k-PCA (reduce dimension to n+m)"
      ]
    },
    {
      "cell_type": "code",
      "metadata": {
        "colab": {
          "base_uri": "https://localhost:8080/",
          "height": 300
        },
        "id": "irU12Q-0VbpW",
        "outputId": "6bbf43a9-266b-4ad5-d08d-2467392a0ed6"
      },
      "source": [
        "# binary with kernel RBF, here we set red_dim to False which means we use labeled and unlabeled data to perform k-PCA (reduce dimension to n+m)\n",
        "plt.rcParams[\"figure.figsize\"] = (6,4)\n",
        "Kernel = GaussKernel(sigma=4)\n",
        "s3vm_bin = binary_S3VM(X_lab_bin, X_unlab_bin, y_lab_bin, Kernel, red_dim=False)\n",
        "s3vm_bin.fit()\n",
        "pred = s3vm_bin.predict(x_val_binary)\n",
        "err = error_rate(pred, y_val_binary)\n",
        "print(f\"Accuracy binary (Gauss kernel) on test set: {1-err:.2%}\")\n",
        "pred = s3vm_bin.predict(X_unlab_bin)\n",
        "y_unlab_bin = y_train_binary[p[n_train_lab:]]\n",
        "err = error_rate(pred, y_unlab_bin)\n",
        "print(f\"Accuracy binary (Gauss kernel) on unlab set: {1-err:.2%}\")"
      ],
      "execution_count": null,
      "outputs": [
        {
          "output_type": "stream",
          "text": [
            "Accuracy binary (Gauss kernel) on test set: 97.07%\n",
            "Accuracy binary (Gauss kernel) on unlab set: 99.30%\n"
          ],
          "name": "stdout"
        },
        {
          "output_type": "display_data",
          "data": {
            "image/png": "[encoded data removed]",
            "text/plain": [
              "<Figure size 432x288 with 1 Axes>"
            ]
          },
          "metadata": {
            "tags": [],
            "needs_background": "light"
          }
        }
      ]
    },
    {
      "cell_type": "markdown",
      "metadata": {
        "id": "tprwanBWWEGU"
      },
      "source": [
        "Bellow binary classification with kernel RBF, here we set red_dim to True, which means we use only labeled data to estimate projection in k-PCA (reduce dimension further to n)"
      ]
    },
    {
      "cell_type": "code",
      "metadata": {
        "colab": {
          "base_uri": "https://localhost:8080/",
          "height": 300
        },
        "id": "YAiUCuFFRNgy",
        "outputId": "c8a67a5a-eb94-4c70-e0be-30afcaf3d5ea"
      },
      "source": [
        "# binary with kernel RBF, here we set red_dim to True, which means we use only labeled data to estimate projection in k-PCA (reduce dimension further to n)\n",
        "plt.rcParams[\"figure.figsize\"] = (6,4)\n",
        "Kernel = GaussKernel(sigma=4)\n",
        "s3vm_bin = binary_S3VM(X_lab_bin, X_unlab_bin, y_lab_bin, Kernel, red_dim=True)\n",
        "s3vm_bin.fit()\n",
        "pred = s3vm_bin.predict(x_val_binary)\n",
        "err = error_rate(pred, y_val_binary)\n",
        "print(f\"Accuracy binary (Gauss kernel) on test set: {1-err:.2%}\")\n",
        "pred = s3vm_bin.predict(X_unlab_bin)\n",
        "y_unlab_bin = y_train_binary[p[n_train_lab:]]\n",
        "err = error_rate(pred, y_unlab_bin)\n",
        "print(f\"Accuracy binary (Gauss kernel) on unlab set: {1-err:.2%}\")"
      ],
      "execution_count": null,
      "outputs": [
        {
          "output_type": "stream",
          "text": [
            "Accuracy binary (Gauss kernel) on test set: 96.10%\n",
            "Accuracy binary (Gauss kernel) on unlab set: 99.30%\n"
          ],
          "name": "stdout"
        },
        {
          "output_type": "display_data",
          "data": {
            "image/png": "[encoded data removed]",
            "text/plain": [
              "<Figure size 432x288 with 1 Axes>"
            ]
          },
          "metadata": {
            "tags": [],
            "needs_background": "light"
          }
        }
      ]
    },
    {
      "cell_type": "markdown",
      "metadata": {
        "id": "2sIpCx-WXsav"
      },
      "source": [
        "*Multiclasses Classification with kernel Trick using RBF kernel*"
      ]
    },
    {
      "cell_type": "code",
      "metadata": {
        "id": "mEnrwB5cA5St",
        "colab": {
          "base_uri": "https://localhost:8080/"
        },
        "outputId": "0d194ac5-36dc-45b6-c781-72d727958d09"
      },
      "source": [
        "# construct data sets first\n",
        "percent_labeled_data = .25\n",
        "\n",
        "n = len(train_data)\n",
        "n_train_lab = int(percent_labeled_data*n)\n",
        "\n",
        "key = jax.random.PRNGKey(int(percent_labeled_data*100))\n",
        "p = list(jax.random.permutation(key, n))\n",
        "X_lab = train_data[p[0:n_train_lab], :]\n",
        "y_lab = train_labels[p[0:n_train_lab]]\n",
        "X_unlab = train_data[p[n_train_lab:], :]\n",
        "\n",
        "print(f\"amount of labeled data = {len(X_lab)}\")\n",
        "print(f\"amount of unlabeled data = {len(X_unlab)}\")"
      ],
      "execution_count": null,
      "outputs": [
        {
          "output_type": "stream",
          "text": [
            "amount of labeled data = 250\n",
            "amount of unlabeled data = 750\n"
          ],
          "name": "stdout"
        }
      ]
    },
    {
      "cell_type": "markdown",
      "metadata": {
        "id": "2sAPHvnBX4sk"
      },
      "source": [
        "Bellow multiclass classification with kernel RBF, here we set red_dim to False, which means we use labeled and unlabeled data to perform k-PCA (reduce dimension to n+m). we took 25% labeled data, and $\\sigma = 4$"
      ]
    },
    {
      "cell_type": "code",
      "metadata": {
        "colab": {
          "base_uri": "https://localhost:8080/"
        },
        "id": "21DEp776RxLJ",
        "outputId": "4102f7ec-89f9-43be-fb0c-419f17622798"
      },
      "source": [
        "# One vs all with RBF kernel, red_dim = False\n",
        "Kernel = GaussKernel(sigma=4)\n",
        "s3vm = OnevsAll_S3VM(X_lab, X_unlab, y_lab, Kernel, red_dim=False)\n",
        "pred = s3vm(val_data)\n",
        "err = error_rate(pred[0], val_labels)\n",
        "print(f\"Accuracy one vs all (10 classes): {1-err:.2%}\")"
      ],
      "execution_count": null,
      "outputs": [
        {
          "output_type": "stream",
          "text": [
            "Accuracy one vs all (10 classes): 55.90%\n"
          ],
          "name": "stdout"
        }
      ]
    },
    {
      "cell_type": "markdown",
      "metadata": {
        "id": "QKqyExyKYLw9"
      },
      "source": [
        "Bellow multiclass classification with kernel RBF, here we set red_dim to True, which means we use only labeled data to estimate projection in k-PCA (reduce dimension further to n)"
      ]
    },
    {
      "cell_type": "code",
      "metadata": {
        "colab": {
          "base_uri": "https://localhost:8080/"
        },
        "id": "ksijB2igWits",
        "outputId": "9dc92471-cdaf-49b7-eb7e-3b208d3ee424"
      },
      "source": [
        "# One vs all with RBF , red_dim = True\n",
        "Kernel = GaussKernel(sigma=4)\n",
        "s3vm = OnevsAll_S3VM(X_lab, X_unlab, y_lab, Kernel, red_dim=True)\n",
        "pred = s3vm(val_data)\n",
        "err = error_rate(pred[0], val_labels)\n",
        "print(f\"Accuracy one vs all (10 classes): {1-err:.2%}\")"
      ],
      "execution_count": null,
      "outputs": [
        {
          "output_type": "stream",
          "text": [
            "Accuracy one vs all (10 classes): 49.10%\n"
          ],
          "name": "stdout"
        }
      ]
    },
    {
      "cell_type": "markdown",
      "metadata": {
        "id": "fJsowzoQ-fQA"
      },
      "source": [
        "We perform a cross validation in order to estimate the best suitable sigma parameter for RBF kernel"
      ]
    },
    {
      "cell_type": "code",
      "metadata": {
        "id": "YuAqYaIWYjZ2"
      },
      "source": [
        "def randomSplit(key, X, y, train_part=0.8, percent_lab=.25):\n",
        "    n = X.shape[0]\n",
        "    n_train = int(train_part*n); n_test = n - n_train\n",
        "    n_train_lab = int(n_train*percent_lab); n_train_unlab = n_train - n_train_lab\n",
        "    p = jax.random.permutation(key, n)\n",
        "    X_train_lab = X[p[0:n_train_lab], :]; y_train_lab = y[p[0:n_train_lab]]\n",
        "    X_train_unlab = X[p[n_train_lab:n_train], :]; y_train_unlab = y[p[n_train_lab:n_train]]\n",
        "    X_val = X[p[n_train:],:] ; y_val = y[p[n_train:]]\n",
        "    return X_train_lab, X_train_unlab, y_train_lab, y_train_unlab, X_val, y_val"
      ],
      "execution_count": null,
      "outputs": []
    },
    {
      "cell_type": "code",
      "metadata": {
        "colab": {
          "base_uri": "https://localhost:8080/",
          "height": 295
        },
        "id": "zcNinxArrgOq",
        "outputId": "61e57ede-19bb-43b8-de6c-32d7edb9e46d"
      },
      "source": [
        "plt.rcParams[\"figure.figsize\"] = (6,4)\n",
        "err_means_test = []\n",
        "sigmas = [.2*k for k in range(1,10)] + list(range(2,8))\n",
        "n_cv_datasets = 5\n",
        "\n",
        "for sigma in sigmas:\n",
        "   err_test = []\n",
        "   for i in range(n_cv_datasets):\n",
        "      key = jax.random.PRNGKey(i)\n",
        "      X_lab, X_unlab, y_lab, y_unlab, X_val, y_val = randomSplit(key, train_data, train_labels, train_part=0.8, percent_lab=.25)\n",
        " \n",
        "      Kernel = GaussKernel(sigma)\n",
        "      s3vm = OnevsAll_S3VM(X_lab, X_unlab, y_lab, Kernel, red_dim=True)\n",
        "      y_hat, _= s3vm(X_val)\n",
        "      err_test.append(error_rate(y_hat, y_val))\n",
        "      \n",
        "   # prendre la moyenne des erreurs\n",
        "   err_means_test.append(jnp.array(err_test).mean())\n",
        "\n",
        "plt.plot(sigmas, err_means_test)\n",
        "plt.xlabel(\"sigmas\")\n",
        "plt.ylabel(\"error\")\n",
        "plt.title(\"CV sigma\")\n",
        "plt.show()"
      ],
      "execution_count": null,
      "outputs": [
        {
          "output_type": "display_data",
          "data": {
            "image/png": "[encoded data removed]",
            "text/plain": [
              "<Figure size 432x288 with 1 Axes>"
            ]
          },
          "metadata": {
            "tags": [],
            "needs_background": "light"
          }
        }
      ]
    },
    {
      "cell_type": "markdown",
      "metadata": {
        "id": "B_kQce3eeeYm"
      },
      "source": [
        "We better avoid small values for $\\sigma$ ! It seems a good idea to take $\\sigma$ between 2 and 4, we took $3$ for the final model."
      ]
    },
    {
      "cell_type": "markdown",
      "metadata": {
        "id": "-V_jUxndUuUn"
      },
      "source": [
        "***Results*** \\"
      ]
    },
    {
      "cell_type": "markdown",
      "metadata": {
        "id": "7bBdypnKfFt2"
      },
      "source": [
        "We took 25% of the data as labeled as always. We used an RBF kernel with parameter $\\sigma=3$ and we set red_dim to True (use only $\\textbf{x}_{lab}$ for projection in k-PCA) so that we reduce the complexity of the model. "
      ]
    },
    {
      "cell_type": "code",
      "metadata": {
        "colab": {
          "base_uri": "https://localhost:8080/"
        },
        "id": "zXWXVsNH7Pw7",
        "outputId": "432dd506-597b-4642-9ec7-8e3441c43268"
      },
      "source": [
        "# construct data sets\n",
        "percent_labeled_data = .25\n",
        "\n",
        "n = len(train_data)\n",
        "n_train_lab = int(percent_labeled_data*n)\n",
        "\n",
        "key = jax.random.PRNGKey(int(percent_labeled_data*100))\n",
        "p = list(jax.random.permutation(key, n))\n",
        "X_lab = train_data[p[0:n_train_lab], :]\n",
        "y_lab = train_labels[p[0:n_train_lab]]\n",
        "X_unlab = train_data[p[n_train_lab:], :]\n",
        "\n",
        "print(f\"amount of labeled data = {len(X_lab)}\")\n",
        "print(f\"amount of unlabeled data = {len(X_unlab)}\")"
      ],
      "execution_count": null,
      "outputs": [
        {
          "output_type": "stream",
          "text": [
            "amount of labeled data = 250\n",
            "amount of unlabeled data = 750\n"
          ],
          "name": "stdout"
        }
      ]
    },
    {
      "cell_type": "code",
      "metadata": {
        "colab": {
          "base_uri": "https://localhost:8080/"
        },
        "id": "XPGWCFH364Fh",
        "outputId": "ff88e6ac-a46e-4aa0-d36e-a4da78bafd57"
      },
      "source": [
        "# One vs all with RBF , red_dim = True\n",
        "Kernel = GaussKernel(sigma=3)\n",
        "s3vm = OnevsAll_S3VM(X_lab, X_unlab, y_lab, Kernel, red_dim=True)\n",
        "pred = s3vm(val_data)\n",
        "err = error_rate(pred[0], val_labels)\n",
        "print(f\"Accuracy one vs all (10 classes): {1-err:.2%}\")"
      ],
      "execution_count": null,
      "outputs": [
        {
          "output_type": "stream",
          "text": [
            "Accuracy one vs all (10 classes): 68.70%\n"
          ],
          "name": "stdout"
        }
      ]
    },
    {
      "cell_type": "markdown",
      "metadata": {
        "id": "EsfV-de-e46h"
      },
      "source": [
        "$68.7\\%$ is the accuracy on the test set. "
      ]
    }
  ]
}